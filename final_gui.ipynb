{
 "cells": [
  {
   "cell_type": "code",
   "execution_count": 2870,
   "metadata": {},
   "outputs": [],
   "source": [
    "import tkinter as tk\n",
    "from tkinter import filedialog, messagebox\n",
    "import random"
   ]
  },
  {
   "cell_type": "code",
   "execution_count": 2871,
   "metadata": {},
   "outputs": [],
   "source": [
    "abc={\n",
    "'a':0,'b':1,'c':2,'d':3,\n",
    "'e':4,'f':5,'g':6,'h':7,\n",
    "'i':8,'j':9,'k':10,'l':11,\n",
    "'m':12,'n':13,'o':14,'p': 15,\n",
    "'q':16,'r':17,'s':18,'t':19,\n",
    "'u':20,'v':21,'w':22,'x':23,\n",
    "'y':24,'z':25,\n",
    "'A':26,'B':27,'C':28,\n",
    "'D':29,'E':30,'F':31,'G': 32,\n",
    "'H':33,'I':34,'J':35,'K':36,\n",
    "'L':37,'M':38,'N':39,'O':40,\n",
    "'P':41,'Q':42,'R':43,'S':44,\n",
    "'T':45,'U':46,'V':47,'W': 48,\n",
    "'X':49,'Y':50,'Z':51,',':52,\n",
    "'\\'':53,'.':54,'-':55,'\\\"':56,\n",
    "' ':57, '\\n':58\n",
    "}\n",
    "\n",
    "abc2={\n",
    "0:'a',1:'b',2:'c',3:'d',\n",
    "4:'e',5:'f',6:'g',7:'h',\n",
    "8:'i',9:'j',10:'k',11:'l',\n",
    "12:'m',13:'n',14:'o',15:'p',\n",
    "16:'q',17:'r',18:'s',19:'t',\n",
    "20:'u',21:'v',22:'w',23:'x',\n",
    "24:'y',25:'z',26:'A',27:'B',\n",
    "28:'C',29:'D',30:'E',31:'F',\n",
    "32:'G',33:'H',34:'I',35:'J',\n",
    "36:'K',37:'L',38:'M',39:'N',\n",
    "40:'O',41:'P',42:'Q',43:'R',\n",
    "44:'S',45:'T',46:'U',47:'V',\n",
    "48:'W',49:'X',50:'Y',51:'Z',\n",
    "52:',',53:'\\'',54:'.',55:'-',\n",
    "56:'\\\"',57:' ',58:'\\n'\n",
    "}"
   ]
  },
  {
   "cell_type": "code",
   "execution_count": 2872,
   "metadata": {},
   "outputs": [],
   "source": [
    "def generate_keys(key):\n",
    "    if len(key) != 128:\n",
    "        raise ValueError(\"Key length must be 128 bits\")\n",
    "\n",
    "    left_key = key[:64]\n",
    "    right_key = key[64:]\n",
    "\n",
    "    return left_key, right_key\n"
   ]
  },
  {
   "cell_type": "code",
   "execution_count": 2873,
   "metadata": {},
   "outputs": [],
   "source": [
    "Pbox={'0000':'0011','0001':'1111','0010':'1110','0011':'0000',\n",
    "'0100':'0101','0101':'0100','0110':'1011','0111':'1100',\n",
    "'1000':'1101','1001':'1010','1010':'1001','1011':'0110',\n",
    "'1100':'0111','1101':'1000','1110':'0010','1111': '0001'}"
   ]
  },
  {
   "cell_type": "code",
   "execution_count": 2874,
   "metadata": {},
   "outputs": [],
   "source": [
    "Qbox={'0000':'1001','0001':'1110','0010':'0101','0011':'0110',\n",
    "'0100':'1010','0101':'0010','0110':'0011','0111':'1100',\n",
    "'1000':'1111','1001':'0000','1010':'0100','1011':'1101',\n",
    "'1100':'0111','1101':'1011','1110':'0001','1111': '1000'}"
   ]
  },
  {
   "cell_type": "code",
   "execution_count": 2875,
   "metadata": {},
   "outputs": [],
   "source": [
    "def f_function_16(P):\n",
    "    a1=P[0:4]\n",
    "    a2=P[4:8]\n",
    "    a3=P[8:12]\n",
    "    a4=P[12:16]\n",
    "    b1=Pbox[a1]\n",
    "    b2=Qbox[a2]\n",
    "    b3=Pbox[a3]\n",
    "    b4=Qbox[a4] \n",
    "    a5=b1[0:2]+b2[0:2]\n",
    "    a6=b1[2:4]+b3[0:2]\n",
    "    a7=b2[2:4]+b4[0:2]\n",
    "    a8=b3[2:4]+b4[2:4]\n",
    "    b5=Qbox[a5]\n",
    "    b6=Pbox[a6]\n",
    "    b7=Qbox[a7]\n",
    "    b8=Pbox[a8]\n",
    "    a9=b5[0:2]+b6[0:2]\n",
    "    a10=b5[2:4]+b7[0:2]\n",
    "    a11=b6[2:4]+b8[0:2]\n",
    "    a12=b7[2:4]+b8[2:4]\n",
    "    b9=Pbox[a9]\n",
    "    b10=Qbox[a10]\n",
    "    b11=Pbox[a11]\n",
    "    b12=Qbox[a12]\n",
    "    f_key_output_P=b9+b10+b11+b12\n",
    "    return f_key_output_P\n",
    "\n",
    "  "
   ]
  },
  {
   "cell_type": "code",
   "execution_count": 2876,
   "metadata": {},
   "outputs": [],
   "source": [
    "def f_function_32(P):\n",
    "    a1=P[0:4]\n",
    "    a2=P[4:8]\n",
    "    a3=P[8:12]\n",
    "    a4=P[12:16]\n",
    "    a5=P[16:20]\n",
    "    a6=P[20:24]\n",
    "    a7=P[24:28]\n",
    "    a8=P[28:32]\n",
    "    \n",
    "    b1=Pbox[a1]\n",
    "    b2=Qbox[a2]\n",
    "    b3=Pbox[a3]\n",
    "    b4=Qbox[a4]\n",
    "    b5=Pbox[a5]\n",
    "    b6=Qbox[a6]\n",
    "    b7=Pbox[a7]\n",
    "    b8=Qbox[a8] \n",
    "    \n",
    "    a9=b1[0:2]+b2[0:2]\n",
    "    a10=b1[2:4]+b3[0:2]\n",
    "    a11=b2[2:4]+b4[0:2]\n",
    "    a12=b3[2:4]+b5[0:2]\n",
    "    a13=b4[2:4]+b6[0:2]\n",
    "    a14=b5[2:4]+b7[0:2]\n",
    "    a15=b6[2:4]+b8[0:2]\n",
    "    a16=b7[2:4]+b8[2:4]\n",
    "    \n",
    "    b9=Qbox[a9]\n",
    "    b10=Pbox[a10]\n",
    "    b11=Qbox[a11]\n",
    "    b12=Pbox[a12]\n",
    "    b13=Qbox[a13]\n",
    "    b14=Pbox[a14]\n",
    "    b15=Qbox[a15]\n",
    "    b16=Pbox[a16]\n",
    "    \n",
    "    a17=b9[0:2]+b10[0:2]\n",
    "    a18=b9[2:4]+b11[0:2]\n",
    "    a19=b10[2:4]+b12[0:2]\n",
    "    a20=b11[2:4]+b13[0:2]\n",
    "    a21=b12[2:4]+b14[0:2]\n",
    "    a22=b13[2:4]+b15[0:2]\n",
    "    a23=b14[2:4]+b16[0:2]\n",
    "    a24=b15[2:4]+b16[2:4]\n",
    "    \n",
    "    b17=Pbox[a17]\n",
    "    b18=Qbox[a18]\n",
    "    b19=Pbox[a19]\n",
    "    b20=Qbox[a20]\n",
    "    b21=Pbox[a21]\n",
    "    b22=Qbox[a22]\n",
    "    b23=Pbox[a23]\n",
    "    b24=Qbox[a24]\n",
    "    f_key_output_P=b17+b18+b19+b20+b21+b22+b23+b24\n",
    "    return f_key_output_P\n",
    "\n",
    "  "
   ]
  },
  {
   "cell_type": "code",
   "execution_count": 2877,
   "metadata": {},
   "outputs": [],
   "source": [
    "def xor_func(bin1,bin2):\n",
    "    xor_result = int(bin1, 2) ^ int(bin2, 2)\n",
    "    xor_result_final = bin(xor_result)[2:].zfill(16)\n",
    "    return xor_result_final"
   ]
  },
  {
   "cell_type": "code",
   "execution_count": 2878,
   "metadata": {},
   "outputs": [],
   "source": [
    "def xor_func_32(bin1, bin2):\n",
    "    xor_result = int(bin1, 2) ^ int(bin2, 2)\n",
    "    xor_result_final = bin(xor_result)[2:].zfill(32)\n",
    "    return xor_result_final\n"
   ]
  },
  {
   "cell_type": "code",
   "execution_count": 2879,
   "metadata": {},
   "outputs": [],
   "source": [
    "def binary_add(bin1,bin2):\n",
    "    num1 = int(bin1, 2)\n",
    "    num2 = int(bin2, 2)\n",
    "    result = num1 + num2\n",
    "    K = bin(result)[2:].zfill(16)\n",
    "    return K\n",
    "    \n"
   ]
  },
  {
   "cell_type": "code",
   "execution_count": 2880,
   "metadata": {},
   "outputs": [],
   "source": [
    "def left_circular_shift_16bit(binary_string):\n",
    "    if len(binary_string) != 16:\n",
    "        raise ValueError(\"Input string length must be 16\")\n",
    "    return binary_string[16:] + binary_string[:16]\n"
   ]
  },
  {
   "cell_type": "code",
   "execution_count": 2881,
   "metadata": {},
   "outputs": [],
   "source": [
    "def left_regular_shift_2bit(binary_string):\n",
    "    if len(binary_string) != 16:\n",
    "        raise ValueError(\"Input string length must be 16\")\n",
    "    return binary_string[1:] + binary_string[0]"
   ]
  },
  {
   "cell_type": "code",
   "execution_count": 2882,
   "metadata": {},
   "outputs": [],
   "source": [
    "def xnor_func(bin1, bin2):\n",
    "    xnor_result = int(bin1, 2) ^ int(bin2, 2) ^ 0xFFFF\n",
    "    xnor_result_final = bin(xnor_result)[2:].zfill(16)\n",
    "    return xnor_result_final\n"
   ]
  },
  {
   "cell_type": "code",
   "execution_count": 2883,
   "metadata": {},
   "outputs": [],
   "source": [
    "def xnor_func_32(bin1, bin2):\n",
    "    xnor_result = int(bin1, 2) ^ int(bin2, 2) ^ 0xFFFFFFFF\n",
    "    xnor_result_final = bin(xnor_result)[2:].zfill(32)\n",
    "    return xnor_result_final\n"
   ]
  },
  {
   "cell_type": "code",
   "execution_count": 2884,
   "metadata": {},
   "outputs": [],
   "source": [
    "def xnor_func_64(bin1, bin2):\n",
    "    xnor_result = int(bin1, 2) ^ int(bin2, 2) ^ 0xFFFFFFFF\n",
    "    xnor_result_final = bin(xnor_result)[2:].zfill(64)\n",
    "    return xnor_result_final\n"
   ]
  },
  {
   "cell_type": "code",
   "execution_count": 2885,
   "metadata": {},
   "outputs": [],
   "source": [
    "def right_key_op(right_key):\n",
    "    PR1=right_key[0:16]\n",
    "    PR2=right_key[16:32]\n",
    "    PR3=right_key[32:48]\n",
    "    PR4=right_key[48:64]\n",
    "    shifted_PR1 = left_circular_shift_16bit(PR1)\n",
    "    shifted_PR2 = left_circular_shift_16bit(PR2)\n",
    "    shifted_PR3 = left_circular_shift_16bit(PR3)\n",
    "    shifted_PR4 = left_circular_shift_16bit(PR4)\n",
    "    untransposed_right_matrix = [[0 for _ in range(4)] for _ in range(4)]\n",
    "    a=0\n",
    "    pr1=list(PR1)\n",
    "    for i in range(4):\n",
    "        for j in range(4):\n",
    "            untransposed_right_matrix[i][j]=pr1[a]\n",
    "            a=a+1\n",
    "            \n",
    "    transposed_right_matrix = [[row[i] for row in untransposed_right_matrix] for i in range(4)]\n",
    "    PR2_f_func_op=f_function_16(PR2)\n",
    "    xor=xor_func(shifted_PR1,PR2_f_func_op)\n",
    "    K1=xor+PR2_f_func_op\n",
    "    PR3_f_func_op=f_function_16(PR3)\n",
    "    double_shifted_PR4=left_regular_shift_2bit(shifted_PR4)\n",
    "    K2=PR3_f_func_op+double_shifted_PR4\n",
    "    KK=xnor_func(K1,K2)\n",
    "    return K1,K2,KK\n",
    "    \n",
    "    \n",
    "\n"
   ]
  },
  {
   "cell_type": "code",
   "execution_count": 2886,
   "metadata": {},
   "outputs": [],
   "source": [
    "def left_key_op(left_key):\n",
    "    PL1=left_key[0:16]\n",
    "    PL2=left_key[16:32]\n",
    "    PL3=left_key[32:48]\n",
    "    PL4=left_key[48:64]\n",
    "    shifted_PL1 = left_circular_shift_16bit(PL1)\n",
    "    shifted_PL2 = left_circular_shift_16bit(PL2)\n",
    "    shifted_PL3 = left_circular_shift_16bit(PL3)\n",
    "    shifted_PL4 = left_circular_shift_16bit(PL4)\n",
    "    untransposed_left_matrix = [[0 for _ in range(4)] for _ in range(4)]\n",
    "    a=0\n",
    "    pl3=list(PL3)\n",
    "    for i in range(4):\n",
    "        for j in range(4):\n",
    "            untransposed_left_matrix[i][j]=pl3[a]\n",
    "            a=a+1\n",
    "    transposed_left_matrix = [[row[i] for row in untransposed_left_matrix] for i in range(4)]\n",
    "    PL2_f_func_op=f_function_16(PL2)\n",
    "    xor=xor_func(shifted_PL1,PL2_f_func_op)\n",
    "    K4=xor+PL2_f_func_op\n",
    "    PL1_f_func_op=f_function_16(PL1)\n",
    "    double_shifted_PL2=left_regular_shift_2bit(shifted_PL2)\n",
    "    xor=xor_func(PL1_f_func_op,double_shifted_PL2)\n",
    "    K3=xor+double_shifted_PL2\n",
    "    PL4_f_func_op=f_function_16(PL4)\n",
    "    K4=shifted_PL3+PL4_f_func_op\n",
    "    KK1=xnor_func(K3,K4)\n",
    "    return K3,K4,KK1\n",
    "    \n",
    "    \n",
    "\n"
   ]
  },
  {
   "cell_type": "code",
   "execution_count": 2887,
   "metadata": {},
   "outputs": [],
   "source": [
    "def layer1_encrypt(text, key):\n",
    "    plaintext=text\n",
    "    choice=key\n",
    "    key=\"\"\n",
    "    for i in choice:\n",
    "        j=abc[i]\n",
    "        k=hex(j).lstrip(\"0x\").rstrip(\"L\")\n",
    "        res = \"{0:08b}\".format(int(k, 16)) \n",
    "        key=key+res        \n",
    "    left_key, right_key=generate_keys(key)\n",
    "    K1,K2,KK=right_key_op(right_key)\n",
    "    K3,K4,KK1=left_key_op(left_key)\n",
    "    SK=KK+KK1\n",
    "    M1 = plaintext[:32]\n",
    "    M2 = plaintext[32:64]\n",
    "    M3 = plaintext[64:96]\n",
    "    M4 = plaintext[96:]\n",
    "    R1_M1 = xor_func_32(M1,K1)\n",
    "    R1_M2 = xor_func_32(R1_M1,M2)\n",
    "    R1_M3 = xor_func_32(R1_M2, M3)\n",
    "    R1_F_output = f_function_32(R1_M3)\n",
    "    R1_M4 = xnor_func_32(R1_F_output, M4)\n",
    "    R2_M1,R2_M2=R1_M2,R1_M1\n",
    "    R2_M3,R2_M4=R1_M4,R1_M3\n",
    "    R3_M4 = xor_func_32(R2_M4,K2)\n",
    "    R3_M3 = xor_func_32(R3_M4,R2_M3)\n",
    "    R2_F_output = f_function_32(R3_M3)\n",
    "    R3_M2 = xor_func_32(R2_F_output,R2_M2)\n",
    "    R3_M1 = xnor_func_32(R3_M2,R2_M1)\n",
    "    S_R3_M1= xor_func_32(R3_M1,K3)\n",
    "    R3_F_output = f_function_32(S_R3_M1)\n",
    "    S_R3_M2= xor_func_32(R3_F_output,R3_M2)\n",
    "    S_R3_M3= xor_func_32(S_R3_M2,R3_M3)\n",
    "    S_R3_M4= xnor_func_32(S_R3_M3,R3_M4)\n",
    "    R4_M1,R4_M2=S_R3_M2,S_R3_M1\n",
    "    R4_M3,R4_M4=S_R3_M4,S_R3_M3\n",
    "    R5_M4 = xor_func_32(R4_M4,K4)\n",
    "    R5_M3 = xor_func_32(R5_M4,R4_M3)\n",
    "    R4_F_output = f_function_32(R5_M3)\n",
    "    R5_M2 = xor_func_32(R4_F_output,R4_M2)\n",
    "    R5_M1 = xnor_func_32(R5_M2,R4_M1)\n",
    "    S_R5_M1= xor_func_32(R5_M1,KK)\n",
    "    S_R5_M2= xor_func_32(S_R5_M1,R5_M2)\n",
    "    S_R5_M3= xor_func_32(S_R5_M2,R5_M3)\n",
    "    R5_F_output = f_function_32(S_R5_M3)\n",
    "    S_R5_M4= xnor_func_32(R5_F_output,R5_M4)\n",
    "    R6_M1,R6_M2=S_R5_M2,S_R5_M1\n",
    "    R6_M3,R6_M4=S_R5_M4,S_R5_M4\n",
    "    I_R6_M4 = xor_func_32(R6_M4,KK1)\n",
    "    I_R6_M3 = xor_func_32(I_R6_M4,R6_M3)\n",
    "    R6_F_output = f_function_32(I_R6_M3)\n",
    "    I_R6_M2 = xor_func_32(R6_F_output,R6_M2)\n",
    "    I_R6_M1= xnor_func_32(I_R6_M2,R6_M1)\n",
    "    MP1= I_R6_M1+I_R6_M2\n",
    "    MP2= I_R6_M3+I_R6_M4\n",
    "    C_MP1=xnor_func_64(MP1,SK)\n",
    "    C_MP2=xnor_func_64(C_MP1,MP2)\n",
    "    ciphertext=C_MP1+C_MP2\n",
    "    return ciphertext\n"
   ]
  },
  {
   "cell_type": "code",
   "execution_count": 2888,
   "metadata": {},
   "outputs": [],
   "source": [
    "def layer2_encrypt(text, key):\n",
    "    text1 = input_text.get(\"1.0\", \"end-1c\")\n",
    "    key1 = key_entry.get()\n",
    "    p_text=text1\n",
    "    blocks = [p_text[i:i+16] for i in range(0, len(p_text), 16)]\n",
    "    c_txt=\"\"\n",
    "    e_txt=\"\"\n",
    "    for p in blocks:\n",
    "        txt=\"\"\n",
    "        for ch in  p:\n",
    "                j=abc[ch]\n",
    "                if j==0:\n",
    "                    k=format(j, '02x') \n",
    "                    res=format(j, '08b')\n",
    "                else:\n",
    "                    k=hex(j).lstrip(\"0x\").rstrip(\"L\")\n",
    "                    res = \"{0:08b}\".format(int(k, 16)) \n",
    "                txt=txt+res\n",
    "        e_txt +=txt\n",
    "        enc=layer1_encrypt(txt,key)\n",
    "        c_txt +=enc\n",
    "    ce = c_txt\n",
    "    cipher_rsa=\"\"\n",
    "    binarye=\"\"\n",
    "    for i in range(0,len(ce), 8):\n",
    "        binary_block = ce[i:i+8]\n",
    "        if binary_block==\"00000000\":\n",
    "            hex_block='00'\n",
    "        groups_of_four = [binary_block[i:i+4] for i in range(0, len(binary_block), 4)]\n",
    "        hexd = ''.join(hex(int(group, 2))[2:].upper() for group in groups_of_four)\n",
    "        decimal_value = int(hexd, 16)\n",
    "        if(decimal_value>58):\n",
    "            decimal_value=decimal_value % 59\n",
    "        else:\n",
    "            decimal_value=decimal_value\n",
    "        binary = format(decimal_value, '08b') \n",
    "        cipher_rsa+=abc2[decimal_value]\n",
    "        binarye+=binary\n",
    "    def gcd(a, b):\n",
    "        while b != 0:\n",
    "            a, b = b, a % b\n",
    "        return a\n",
    "    def mod_inverse(a, m):\n",
    "        m0, x0, x1 = m, 0, 1\n",
    "        while a > 1:\n",
    "            q = a // m\n",
    "            m, a = a % m, m\n",
    "            x0, x1 = x1 - q * x0, x0\n",
    "        return x1 + m0 if x1 < 0 else x1\n",
    "    def generate_keypair(p, q):\n",
    "        n = p * q\n",
    "        phi = (p - 1) * (q - 1)\n",
    "        e = random.randrange(1, phi)\n",
    "        while gcd(e, phi) != 1:\n",
    "            e = random.randrange(1, phi)\n",
    "        d = mod_inverse(e, phi)\n",
    "        return ((e, n), (d, n))\n",
    "    def encrypt(pk, plaintext):\n",
    "        key, n = pk\n",
    "        cipher = [(ord(char) ** key) % n for char in plaintext]\n",
    "        return cipher\n",
    "    if __name__ == '__main__':\n",
    "        p = 61\n",
    "        q = 53\n",
    "        public, private = generate_keypair(p, q)\n",
    "        message = cipher_rsa\n",
    "        encrypted_msg = encrypt(public, message)\n",
    "        decrypted_msg = layer1_decrypt(private, encrypted_msg)\n",
    "    return encrypted_msg ,decrypted_msg, e_txt"
   ]
  },
  {
   "cell_type": "code",
   "execution_count": 2889,
   "metadata": {},
   "outputs": [],
   "source": [
    "def layer1_decrypt(pk, ciphertext_rsa):\n",
    "    key, n = pk\n",
    "    plain = [chr((char ** key) % n) for char in ciphertext_rsa]\n",
    "    return ''.join(plain)"
   ]
  },
  {
   "cell_type": "code",
   "execution_count": 2890,
   "metadata": {},
   "outputs": [],
   "source": [
    "def layer2_decrypt(de, key):\n",
    "    choice=key\n",
    "    key=\"\"\n",
    "    for i in choice:\n",
    "        j=ord(str(i))\n",
    "        k=hex(j).lstrip(\"0x\").rstrip(\"L\")\n",
    "        res = \"{0:08b}\".format(int(k, 16)) \n",
    "        key=key+res\n",
    "    left_key, right_key=generate_keys(key)\n",
    "    K1,K2,KK=right_key_op(right_key)\n",
    "    K3,K4,KK1=left_key_op(left_key)\n",
    "    SK=KK+KK1\n",
    "    D1_MP1=de[0:64]\n",
    "    D1_MP2=de[64:128]\n",
    "    D2_MP1=xnor_func_64(D1_MP1,SK)\n",
    "    D2_MP2=xnor_func_64(D2_MP1,D1_MP2)\n",
    "    R6_M1=D2_MP1[0:32]\n",
    "    R6_M2=D2_MP1[32:64]\n",
    "    R6_M3=D2_MP2[0:32]\n",
    "    R6_M4=D2_MP2[32:64]\n",
    "    S_R6_M4=xor_func_32(R6_M4,KK1)\n",
    "    S_R6_M3=xor_func_32(R6_M3,S_R6_M4)\n",
    "    R6_F_OUTPUT=f_function_32(S_R6_M3)\n",
    "    S_R6_M2=xor_func_32(R6_M2,R6_F_OUTPUT)\n",
    "    S_R6_M1=xnor_func_32(S_R6_M2,R6_M1)\n",
    "    R5_M1,R5_M2=S_R6_M2,S_R6_M1\n",
    "    R5_M3,R5_M4=S_R6_M4,S_R6_M3\n",
    "    I_R5_M1= xor_func_32(KK,R5_M1)\n",
    "    R5_F_OUTPUT=f_function_32(I_R5_M1)\n",
    "    I_R5_M2= xor_func_32(R5_F_OUTPUT,R5_M2)\n",
    "    I_R5_M3= xor_func_32(I_R5_M2,R5_M3)\n",
    "    I_R5_M4=xnor_func_32(I_R5_M3,R5_M4)\n",
    "    R4_M4=xor_func_32(K4,I_R5_M4)\n",
    "    R4_M3=xor_func_32(I_R5_M3,R4_M4)\n",
    "    R4_F_OUTPUT=f_function_32(R4_M3)\n",
    "    R4_M2=xor_func_32(I_R5_M2, R4_F_OUTPUT)\n",
    "    R4_M1=xnor_func_32(R4_M2,I_R5_M1)\n",
    "    R3_M1,R3_M2=R4_M2,R4_M1\n",
    "    R3_M3,R3_M4=R4_M4,R4_M3\n",
    "    R2_M1=xnor_func_32(K3,R3_M1)\n",
    "    R2_M2=xor_func_32(R3_M2,R2_M1)\n",
    "    R2_M3=xor_func_32(R3_M3,R2_M2)\n",
    "    R3_F_OUTPUT=f_function_32(R2_M3)\n",
    "    R2_M4=xnor_func_32(R3_M4,R3_F_OUTPUT)\n",
    "    S_R2_M4=xor_func_32(K2,R2_M4)\n",
    "    S_R2_M3=xor_func_32(R2_M3, S_R2_M4)\n",
    "    R2_F_OUTPUT=f_function_32(S_R2_M3)\n",
    "    S_R2_M2=xor_func_32(R2_M2,R2_F_OUTPUT)\n",
    "    S_R2_M1=xnor_func_32(R2_M1,S_R2_M2)\n",
    "    R1_M1,R1_M2=S_R2_M2,S_R2_M1\n",
    "    R1_M3,R1_M4=S_R2_M4,S_R2_M3\n",
    "    I_R1_M1= xor_func_32(K1,R1_M1)\n",
    "    R1_F_OUTPUT=f_function_32(I_R1_M1)\n",
    "    I_R1_M2= xor_func_32(R1_F_OUTPUT,R1_M2)\n",
    "    I_R1_M3= xor_func_32(I_R1_M2,R1_M3)\n",
    "    I_R1_M4=xnor_func_32(I_R1_M3,R1_M4)\n",
    "    plaintxt_de=I_R1_M1+I_R1_M2+I_R1_M3+I_R1_M4\n",
    "    ptxt=\"\"\n",
    "    for i in range(0, 128, 8):\n",
    "        binary_block = plaintxt_de[i:i+8]\n",
    "        try:\n",
    "            hex_block = hex(int(binary_block, 2)).lstrip(\"0x\")\n",
    "            decimal_value = int(hex_block, 16)\n",
    "            while decimal_value > 128:\n",
    "                decimal_value =decimal_value % 128\n",
    "            ptxt += chr(decimal_value)\n",
    "        except ValueError:\n",
    "            pass\n",
    "    return ptxt"
   ]
  },
  {
   "cell_type": "code",
   "execution_count": 2891,
   "metadata": {},
   "outputs": [],
   "source": [
    "def browse_file():\n",
    "    filename = filedialog.askopenfilename()\n",
    "    if filename:\n",
    "        with open(filename, \"r\") as file:\n",
    "            text = file.read()\n",
    "            input_text.delete(\"1.0\", \"end\")\n",
    "            input_text.insert(\"1.0\", text)"
   ]
  },
  {
   "cell_type": "code",
   "execution_count": 2892,
   "metadata": {},
   "outputs": [],
   "source": [
    "def layer1_encrypt_text():\n",
    "    text = input_text.get(\"1.0\", \"end-1c\")\n",
    "    key = key_entry.get()\n",
    "    if len(key) != 16:\n",
    "        messagebox.showerror(\"Error\", \"Key must be 16 characters long\")\n",
    "        return\n",
    "    p_text=text\n",
    "    blocks = [p_text[i:i+16] for i in range(0, len(p_text), 16)]\n",
    "    c_txt=\"\"\n",
    "    e_txt=\"\"\n",
    "    for p in blocks:\n",
    "        txt=\"\"\n",
    "        for ch in  p:\n",
    "                j=abc[ch]\n",
    "                if j==0:\n",
    "                    k=format(j, '02x') \n",
    "                    res=format(j, '08b')\n",
    "                else:\n",
    "                    k=hex(j).lstrip(\"0x\").rstrip(\"L\")\n",
    "                    res = \"{0:08b}\".format(int(k, 16)) \n",
    "                txt=txt+res\n",
    "        e_txt +=txt\n",
    "        enc=layer1_encrypt(txt,key)\n",
    "        c_txt +=enc\n",
    "    ce=c_txt\n",
    "    cipher_rsa=\"\"\n",
    "    binarye=\"\"\n",
    "    for i in range(0,len(ce), 8):\n",
    "        binary_block = ce[i:i+8]\n",
    "        if binary_block==\"00000000\":\n",
    "            hex_block='00'\n",
    "        groups_of_four = [binary_block[i:i+4] for i in range(0, len(binary_block), 4)]\n",
    "        hexd = ''.join(hex(int(group, 2))[2:].upper() for group in groups_of_four)\n",
    "        decimal_value = int(hexd, 16)\n",
    "        if(decimal_value>58):\n",
    "            decimal_value=decimal_value % 59\n",
    "        else:\n",
    "            decimal_value=decimal_value\n",
    "        binary = format(decimal_value, '08b')\n",
    "        cipher_rsa+=abc2[decimal_value]\n",
    "        binarye+=binary\n",
    "    intermediate_encrypted_text = cipher_rsa\n",
    "    intermediate_encrypted_output_text.delete(\"1.0\", \"end\")\n",
    "    intermediate_encrypted_output_text.insert(\"1.0\", intermediate_encrypted_text)"
   ]
  },
  {
   "cell_type": "code",
   "execution_count": 2893,
   "metadata": {},
   "outputs": [],
   "source": [
    "def layer2_encrypt_text():\n",
    "    text = intermediate_encrypted_output_text.get(\"1.0\", \"end-1c\")\n",
    "    key = key_entry.get()   \n",
    "    if len(key) != 16:\n",
    "        messagebox.showerror(\"Error\", \"Key must be 16 characters long\")\n",
    "        return\n",
    "    encrypted_cipher_text, decrypted_text, ee = layer2_encrypt(text, key)\n",
    "    encrypted_output_text.delete(\"1.0\", \"end\")\n",
    "    encrypted_output_text.insert(\"1.0\", encrypted_cipher_text)\n"
   ]
  },
  {
   "cell_type": "code",
   "execution_count": 2894,
   "metadata": {},
   "outputs": [],
   "source": [
    "def layer1_decrypt_text():\n",
    "    text1 = intermediate_encrypted_output_text.get(\"1.0\", \"end-1c\")\n",
    "    key1 = key_entry.get()\n",
    "    if len(key1) != 16:\n",
    "        messagebox.showerror(\"Error\", \"Key must be 16 characters long\")\n",
    "        return\n",
    "    cipher_rsa = encrypted_output_text.get(\"1.0\", \"end-1c\")\n",
    "    text3 = intermediate_encrypted_output_text.get(\"1.0\", \"end-1c\")\n",
    "    key3 = key_entry.get()   \n",
    "    if len(key3) != 16:\n",
    "        messagebox.showerror(\"Error\", \"Key must be 16 characters long\")\n",
    "        return\n",
    "    encrypted_cipher_text, decrypted_text, ee = layer2_encrypt(text3, key3)\n",
    "    intermediate_decrypted_text = decrypted_text\n",
    "    intermediate_decrypted_output_text.delete(\"1.0\", \"end\")\n",
    "    intermediate_decrypted_output_text.insert(\"1.0\", intermediate_decrypted_text)"
   ]
  },
  {
   "cell_type": "code",
   "execution_count": 2895,
   "metadata": {},
   "outputs": [],
   "source": [
    "def layer2_decrypt_text():\n",
    "    text = intermediate_encrypted_output_text.get(\"1.0\", \"end-1c\")\n",
    "    key = key_entry.get()   \n",
    "    if len(key) != 16:\n",
    "        messagebox.showerror(\"Error\", \"Key must be 16 characters long\")\n",
    "        return\n",
    "    encrypted_cipher_text, decrypted_text, ee = layer2_encrypt(text, key)\n",
    "    plaintxt_de1 = ee\n",
    "    result_hex = []\n",
    "    for i in range(0, len(plaintxt_de1), 8):\n",
    "        block = plaintxt_de1[i:i+8]\n",
    "        decimal_value = int(block, 2)\n",
    "        hex_value = hex(decimal_value)[2:].upper()\n",
    "        if len(hex_value) < 2:\n",
    "            hex_value = \"0\" + hex_value\n",
    "        result_hex.append(hex_value)\n",
    "\n",
    "\n",
    "    result_chars = ''\n",
    "    for hex_string in result_hex:\n",
    "        decimal_value = int(hex_string, 16)\n",
    "        char = abc2.get(decimal_value, '')\n",
    "        result_chars += char\n",
    "    decrypted_plain_text = result_chars\n",
    "    decrypted_output_text.delete(\"1.0\", \"end\")\n",
    "    decrypted_output_text.insert(\"1.0\", decrypted_plain_text)"
   ]
  },
  {
   "cell_type": "code",
   "execution_count": 2896,
   "metadata": {},
   "outputs": [
    {
     "data": {
      "text/plain": [
       "''"
      ]
     },
     "execution_count": 2896,
     "metadata": {},
     "output_type": "execute_result"
    }
   ],
   "source": [
    "root = tk.Tk()\n",
    "root.title(\"Layered Encryption & Decryption\")\n"
   ]
  },
  {
   "cell_type": "code",
   "execution_count": 2897,
   "metadata": {},
   "outputs": [],
   "source": [
    "browse_button = tk.Button(root, text=\"Browse Files\", command=browse_file)\n",
    "browse_button.pack()"
   ]
  },
  {
   "cell_type": "code",
   "execution_count": 2898,
   "metadata": {},
   "outputs": [],
   "source": [
    "label = tk.Label(root, text=\"Enter Text:\")\n",
    "label.pack()"
   ]
  },
  {
   "cell_type": "code",
   "execution_count": 2899,
   "metadata": {},
   "outputs": [],
   "source": [
    "input_text = tk.Text(root, height=5, width=50)\n",
    "input_text.pack()"
   ]
  },
  {
   "cell_type": "code",
   "execution_count": 2900,
   "metadata": {},
   "outputs": [],
   "source": [
    "key_label = tk.Label(root, text=\"Enter Key (16 characters):\")\n",
    "key_label.pack()"
   ]
  },
  {
   "cell_type": "code",
   "execution_count": 2901,
   "metadata": {},
   "outputs": [],
   "source": [
    "key_entry = tk.Entry(root)\n",
    "key_entry.pack()"
   ]
  },
  {
   "cell_type": "code",
   "execution_count": 2902,
   "metadata": {},
   "outputs": [],
   "source": [
    "layer1_encrypt_button = tk.Button(root, text=\"Layer 1 Encrypt\", command=layer1_encrypt_text)\n",
    "layer1_encrypt_button.pack()"
   ]
  },
  {
   "cell_type": "code",
   "execution_count": 2903,
   "metadata": {},
   "outputs": [],
   "source": [
    "intermediate_encrypted_label = tk.Label(root, text=\"Intermediate Encrypted Text:\")\n",
    "intermediate_encrypted_label.pack()"
   ]
  },
  {
   "cell_type": "code",
   "execution_count": 2904,
   "metadata": {},
   "outputs": [],
   "source": [
    "intermediate_encrypted_output_text = tk.Text(root, height=5, width=50)\n",
    "intermediate_encrypted_output_text.pack()"
   ]
  },
  {
   "cell_type": "code",
   "execution_count": 2905,
   "metadata": {},
   "outputs": [],
   "source": [
    "layer2_encrypt_button = tk.Button(root, text=\"Layer 2 Encrypt\", command=layer2_encrypt_text)\n",
    "layer2_encrypt_button.pack()"
   ]
  },
  {
   "cell_type": "code",
   "execution_count": 2906,
   "metadata": {},
   "outputs": [],
   "source": [
    "encrypted_label = tk.Label(root, text=\"Encrypted Cipher Text:\")\n",
    "encrypted_label.pack()"
   ]
  },
  {
   "cell_type": "code",
   "execution_count": 2907,
   "metadata": {},
   "outputs": [],
   "source": [
    "encrypted_output_text = tk.Text(root, height=5, width=50)\n",
    "encrypted_output_text.pack()"
   ]
  },
  {
   "cell_type": "code",
   "execution_count": 2908,
   "metadata": {},
   "outputs": [],
   "source": [
    "layer1_decrypt_button = tk.Button(root, text=\"Layer 1 Decrypt\", command=layer1_decrypt_text)\n",
    "layer1_decrypt_button.pack()"
   ]
  },
  {
   "cell_type": "code",
   "execution_count": 2909,
   "metadata": {},
   "outputs": [],
   "source": [
    "intermediate_decrypted_label = tk.Label(root, text=\"Intermediate Decrypted Text:\")\n",
    "intermediate_decrypted_label.pack()"
   ]
  },
  {
   "cell_type": "code",
   "execution_count": 2910,
   "metadata": {},
   "outputs": [],
   "source": [
    "intermediate_decrypted_output_text = tk.Text(root, height=5, width=50)\n",
    "intermediate_decrypted_output_text.pack()"
   ]
  },
  {
   "cell_type": "code",
   "execution_count": 2911,
   "metadata": {},
   "outputs": [],
   "source": [
    "layer2_decrypt_button = tk.Button(root, text=\"Layer 2 Decrypt\", command=layer2_decrypt_text)\n",
    "layer2_decrypt_button.pack()"
   ]
  },
  {
   "cell_type": "code",
   "execution_count": 2912,
   "metadata": {},
   "outputs": [],
   "source": [
    "decrypted_label = tk.Label(root, text=\"Decrypted Plain Text:\")\n",
    "decrypted_label.pack()"
   ]
  },
  {
   "cell_type": "code",
   "execution_count": 2913,
   "metadata": {},
   "outputs": [],
   "source": [
    "decrypted_output_text = tk.Text(root, height=5, width=50)\n",
    "decrypted_output_text.pack()"
   ]
  },
  {
   "cell_type": "code",
   "execution_count": 2914,
   "metadata": {},
   "outputs": [],
   "source": [
    "root.mainloop()"
   ]
  }
 ],
 "metadata": {
  "kernelspec": {
   "display_name": "Python 3",
   "language": "python",
   "name": "python3"
  },
  "language_info": {
   "codemirror_mode": {
    "name": "ipython",
    "version": 3
   },
   "file_extension": ".py",
   "mimetype": "text/x-python",
   "name": "python",
   "nbconvert_exporter": "python",
   "pygments_lexer": "ipython3",
   "version": "3.11.4"
  }
 },
 "nbformat": 4,
 "nbformat_minor": 2
}
